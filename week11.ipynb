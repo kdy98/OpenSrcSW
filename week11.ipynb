{
 "cells": [
  {
   "cell_type": "markdown",
   "id": "d6e4a0d2",
   "metadata": {},
   "source": [
    "\"README.txt\" 파일에 있는 각 단어의 수를 계산하여 출력하는 프로그램을 작성하시오."
   ]
  },
  {
   "cell_type": "code",
   "execution_count": 1,
   "id": "c06ae0d5",
   "metadata": {},
   "outputs": [
    {
     "name": "stdout",
     "output_type": "stream",
     "text": [
      "파이썬 2\n",
      "파일 2\n",
      "읽기 2\n",
      "예제입니다. 2\n",
      "다양한 1\n",
      "메소드를 1\n",
      "공부해 1\n",
      "보세요. 1\n",
      "실력이 1\n",
      "팍팍 1\n",
      "늘 1\n",
      "거예요~ 1\n",
      "단어 1\n",
      "수를 1\n",
      "카운트하는 1\n",
      "실습 1\n"
     ]
    }
   ],
   "source": [
    "# 실습1\n",
    "\n",
    "f = open('README.txt', 'r', encoding='utf8')\n",
    "\n",
    "dic = {}\n",
    "\n",
    "for line in f:\n",
    "    \n",
    "    line = line.strip()\n",
    "    words = line.split()\n",
    "    \n",
    "    for w in words:\n",
    "        \n",
    "        if w in dic:\n",
    "            dic[w] += 1\n",
    "        else:\n",
    "            dic[w] = 1\n",
    "            \n",
    "for w in dic:\n",
    "    print(w, dic[w])"
   ]
  },
  {
   "cell_type": "markdown",
   "id": "28c3a4bc",
   "metadata": {},
   "source": [
    "2차원 공간에서 점을 나타내는 Point 클래스를 작성하고, 그것을 상속 받아 Box 클래스를 작성하시오.\n",
    " - Point Class\n",
    "  - 속성\n",
    "    - 좌표 (x, y)\n",
    "  - 메소드\n",
    "    - move(dx, dy): 좌표 (x, y)를 (dx, dy) 만큼 이동\n",
    "    - show(): 좌표 (x, y)를 출력\n",
    " - Box Class\n",
    "  - 속성\n",
    "    - 좌상단, 우하단 포인트 좌표 (p1, p2)\n",
    "  - 메소드\n",
    "    - move(dx, dy): 좌상단, 우하단 포인트 좌표를 (dx, dy) 만큼 이동\n",
    "    - Show(): 좌상단, 우하단 포인트 좌표 출력"
   ]
  },
  {
   "cell_type": "code",
   "execution_count": 2,
   "id": "7ef90380",
   "metadata": {},
   "outputs": [
    {
     "name": "stdout",
     "output_type": "stream",
     "text": [
      "(1,2)\n",
      "(3,4)\n",
      "(2,3)\n",
      "(4,5)\n"
     ]
    }
   ],
   "source": [
    "#실습2\n",
    "\n",
    "class Point:\n",
    "    def __init__(self, x, y):\n",
    "        self.x = x\n",
    "        self.y = y\n",
    "        \n",
    "    def move(self, dx, dy):\n",
    "        self.x += dx\n",
    "        self.y += dy\n",
    "        \n",
    "    def show(self):\n",
    "        print(\"({0:d},{1:d})\".format(self.x,self.y))\n",
    "        \n",
    "class Box(Point):\n",
    "    def __init__(self, p1, p2):\n",
    "        self.p1 = p1\n",
    "        self.p2 = p2\n",
    "        \n",
    "    def move(self, dx, dy):\n",
    "        self.p1.move(dx, dy)\n",
    "        self.p2.move(dx, dy)\n",
    "        \n",
    "    def show(self):\n",
    "        self.p1.show()\n",
    "        self.p2.show()   \n",
    "        \n",
    "p1 = Point(1,2)\n",
    "p1.show()\n",
    "p2 = Point(3,4)\n",
    "p2.show()\n",
    "\n",
    "b = Box(p1,p2)\n",
    "b.move(1,1)\n",
    "b.show()"
   ]
  },
  {
   "cell_type": "code",
   "execution_count": null,
   "id": "ff13f0a0",
   "metadata": {},
   "outputs": [],
   "source": []
  }
 ],
 "metadata": {
  "kernelspec": {
   "display_name": "Python 3 (ipykernel)",
   "language": "python",
   "name": "python3"
  },
  "language_info": {
   "codemirror_mode": {
    "name": "ipython",
    "version": 3
   },
   "file_extension": ".py",
   "mimetype": "text/x-python",
   "name": "python",
   "nbconvert_exporter": "python",
   "pygments_lexer": "ipython3",
   "version": "3.10.4"
  }
 },
 "nbformat": 4,
 "nbformat_minor": 5
}

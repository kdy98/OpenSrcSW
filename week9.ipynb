{
 "cells": [
  {
   "cell_type": "markdown",
   "id": "c6d672dc",
   "metadata": {},
   "source": [
    "456분은 몇 시간 몇 분인지 계산하시오."
   ]
  },
  {
   "cell_type": "code",
   "execution_count": 1,
   "id": "05b087d3",
   "metadata": {},
   "outputs": [
    {
     "data": {
      "text/plain": [
       "(7, 36)"
      ]
     },
     "execution_count": 1,
     "metadata": {},
     "output_type": "execute_result"
    }
   ],
   "source": [
    "# 실습문제 1번\n",
    "\n",
    "n = 456\n",
    "hour = 456/60\n",
    "minute = 456 % 60\n",
    "int(hour), minute"
   ]
  },
  {
   "cell_type": "markdown",
   "id": "fb163f7d",
   "metadata": {},
   "source": [
    "다음과 같은 학점 데이터를 딕셔너리에 저장한 후, 이름순으로 첫번째 학생의 학점을 출력하는 프로그램을 작성하시오.\n",
    "- \"홍길동\":3.4, \"임꺽정\":4.0, \"김철수\":2.8, \"이영희\":3.9"
   ]
  },
  {
   "cell_type": "code",
   "execution_count": 2,
   "id": "78c4a9f1",
   "metadata": {},
   "outputs": [
    {
     "name": "stdout",
     "output_type": "stream",
     "text": [
      "['김철수', '이영희', '임꺽정', '홍길동']\n",
      "김철수 2.8\n"
     ]
    }
   ],
   "source": [
    "# 실습문제 2번\n",
    "\n",
    "scores={\"홍길동\":3.4,\"임꺽정\":4.0,\"김철수\":2.8,\"이영희\":3.9}\n",
    "\n",
    "data=scores.keys()\n",
    "data_list=list(data)\n",
    "data_list.sort()\n",
    "print(data_list)\n",
    "\n",
    "key=data_list[0]\n",
    "value=scores[key]\n",
    "print(key,value)"
   ]
  },
  {
   "cell_type": "code",
   "execution_count": null,
   "id": "3e99e7bd",
   "metadata": {},
   "outputs": [],
   "source": []
  }
 ],
 "metadata": {
  "kernelspec": {
   "display_name": "Python 3 (ipykernel)",
   "language": "python",
   "name": "python3"
  },
  "language_info": {
   "codemirror_mode": {
    "name": "ipython",
    "version": 3
   },
   "file_extension": ".py",
   "mimetype": "text/x-python",
   "name": "python",
   "nbconvert_exporter": "python",
   "pygments_lexer": "ipython3",
   "version": "3.10.4"
  }
 },
 "nbformat": 4,
 "nbformat_minor": 5
}

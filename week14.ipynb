{
 "cells": [
  {
   "cell_type": "markdown",
   "id": "2f9392a0",
   "metadata": {},
   "source": [
    "다음과 같은 절차에 따라 총 가격이 가장 비싼 가계를 출력하는 프로그램을 작성 하시오.\n",
    "\n",
    "- 단가와 개수로 이루어진 데이터 프레임 생성\n",
    "- 단가와 개수를 곱한 총 가격이 추가된 데이터 프레임 생성\n",
    "- 총 가격이 가장 비싼 가계 출력"
   ]
  },
  {
   "cell_type": "code",
   "execution_count": 4,
   "id": "d1dbce8c",
   "metadata": {},
   "outputs": [
    {
     "name": "stdout",
     "output_type": "stream",
     "text": [
      "        unit price  number\n",
      "store1        1000      25\n",
      "store2         280     120\n",
      "store3         900      30\n",
      "\n",
      "        unit price  number  total price\n",
      "store1        1000      25        25000\n",
      "store2         280     120        33600\n",
      "store3         900      30        27000\n"
     ]
    },
    {
     "data": {
      "text/html": [
       "<div>\n",
       "<style scoped>\n",
       "    .dataframe tbody tr th:only-of-type {\n",
       "        vertical-align: middle;\n",
       "    }\n",
       "\n",
       "    .dataframe tbody tr th {\n",
       "        vertical-align: top;\n",
       "    }\n",
       "\n",
       "    .dataframe thead th {\n",
       "        text-align: right;\n",
       "    }\n",
       "</style>\n",
       "<table border=\"1\" class=\"dataframe\">\n",
       "  <thead>\n",
       "    <tr style=\"text-align: right;\">\n",
       "      <th></th>\n",
       "      <th>unit price</th>\n",
       "      <th>number</th>\n",
       "      <th>total price</th>\n",
       "    </tr>\n",
       "  </thead>\n",
       "  <tbody>\n",
       "    <tr>\n",
       "      <th>store2</th>\n",
       "      <td>280</td>\n",
       "      <td>120</td>\n",
       "      <td>33600</td>\n",
       "    </tr>\n",
       "  </tbody>\n",
       "</table>\n",
       "</div>"
      ],
      "text/plain": [
       "        unit price  number  total price\n",
       "store2         280     120        33600"
      ]
     },
     "execution_count": 4,
     "metadata": {},
     "output_type": "execute_result"
    }
   ],
   "source": [
    "# 실습1\n",
    "\n",
    "import numpy as np\n",
    "import pandas as pd\n",
    "\n",
    "arr = np.array([[1000,25],[280,120],[900,30]])\n",
    "\n",
    "df = pd.DataFrame(arr, index=[\"store1\",\"store2\",\"store3\"], columns=[\"unit price\", \"number\"])\n",
    "print(df)\n",
    "print()\n",
    "\n",
    "df[\"total price\"] = df[\"unit price\"] * df[\"number\"]\n",
    "print(df)\n",
    "\n",
    "max_total = max(df[\"total price\"])\n",
    "\n",
    "df2 = df[df[\"total price\"] == max_total]\n",
    "df2"
   ]
  }
 ],
 "metadata": {
  "kernelspec": {
   "display_name": "Python 3 (ipykernel)",
   "language": "python",
   "name": "python3"
  },
  "language_info": {
   "codemirror_mode": {
    "name": "ipython",
    "version": 3
   },
   "file_extension": ".py",
   "mimetype": "text/x-python",
   "name": "python",
   "nbconvert_exporter": "python",
   "pygments_lexer": "ipython3",
   "version": "3.10.4"
  }
 },
 "nbformat": 4,
 "nbformat_minor": 5
}
